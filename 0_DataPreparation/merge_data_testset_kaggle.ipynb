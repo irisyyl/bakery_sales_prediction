{
 "cells": [
  {
   "cell_type": "code",
   "execution_count": 1,
   "id": "1e60f566",
   "metadata": {},
   "outputs": [
    {
     "name": "stdout",
     "output_type": "stream",
     "text": [
      " Test data prepared. Shape: (1830, 17)\n"
     ]
    }
   ],
   "source": [
    "import pandas as pd\n",
    "import numpy as np\n",
    "\n",
    "# Load files\n",
    "test = pd.read_csv(\"/workspaces/bakery_sales_prediction/test.csv\", parse_dates=[\"Datum\"])\n",
    "kiwo = pd.read_csv(\"/workspaces/bakery_sales_prediction/kiwo.csv\", parse_dates=[\"Datum\"])\n",
    "wetter = pd.read_csv(\"/workspaces/bakery_sales_prediction/wetter.csv\", parse_dates=[\"Datum\"])\n",
    "\n",
    "# Merge Kieler Woche indicator\n",
    "test = test.merge(kiwo, on=\"Datum\", how=\"left\")\n",
    "\n",
    "# Merge weather data\n",
    "test = test.merge(wetter, on=\"Datum\", how=\"left\")\n",
    "\n",
    "# Fill missing values conservatively (optional tuning possible)\n",
    "test[\"KielerWoche\"] = test[\"KielerWoche\"].fillna(0).astype(int)\n",
    "test[\"Bewoelkung\"] = test[\"Bewoelkung\"].fillna(test[\"Bewoelkung\"].median())\n",
    "test[\"Temperatur\"] = test[\"Temperatur\"].fillna(test[\"Temperatur\"].median())\n",
    "test[\"Windgeschwindigkeit\"] = test[\"Windgeschwindigkeit\"].fillna(test[\"Windgeschwindigkeit\"].median())\n",
    "\n",
    "# Add date-based features\n",
    "test[\"DayOfWeek\"] = test[\"Datum\"].dt.dayofweek\n",
    "test[\"Weekend\"] = test[\"DayOfWeek\"].isin([5, 6]).astype(int)\n",
    "test[\"Month\"] = test[\"Datum\"].dt.month\n",
    "\n",
    "# Add holiday and season features\n",
    "def get_season(month):\n",
    "    if month in [12, 1, 2]:\n",
    "        return \"Winter\"\n",
    "    elif month in [3, 4, 5]:\n",
    "        return \"Frühling\"\n",
    "    elif month in [6, 7, 8]:\n",
    "        return \"Sommer\"\n",
    "    else:\n",
    "        return \"Herbst\"\n",
    "\n",
    "def get_holiday_name(date):\n",
    "    # Example: replace with your real logic\n",
    "    if date.strftime(\"%Y-%m-%d\") in [\"2024-12-25\", \"2024-01-01\"]:\n",
    "        return \"Weihnachten\" if date.month == 12 else \"Neujahr\"\n",
    "    return \"None\"\n",
    "\n",
    "test[\"Season\"] = test[\"Month\"].apply(get_season)\n",
    "test[\"HolidayName\"] = test[\"Datum\"].apply(get_holiday_name)\n",
    "test[\"IsHoliday_lib\"] = (test[\"HolidayName\"] != \"None\").astype(int)\n",
    "\n",
    "# Categorize weather\n",
    "def categorize_temp(t):\n",
    "    if t < 5:\n",
    "        return \"Kalt\"\n",
    "    elif t <= 20:\n",
    "        return \"Mild\"\n",
    "    else:\n",
    "        return \"Heiß\"\n",
    "\n",
    "def categorize_clouds(b):\n",
    "    if b < 3:\n",
    "        return \"Klar\"\n",
    "    elif b <= 6:\n",
    "        return \"Teilweise bewölkt\"\n",
    "    else:\n",
    "        return \"Stark bewölkt\"\n",
    "\n",
    "def categorize_wind(w):\n",
    "    if w < 10:\n",
    "        return \"Schwach\"\n",
    "    elif w <= 25:\n",
    "        return \"Mittel\"\n",
    "    else:\n",
    "        return \"Stark\"\n",
    "\n",
    "test[\"TemperatureCategory\"] = test[\"Temperatur\"].apply(categorize_temp)\n",
    "test[\"CloudCategory\"] = test[\"Bewoelkung\"].apply(categorize_clouds)\n",
    "test[\"WindCategory\"] = test[\"Windgeschwindigkeit\"].apply(categorize_wind)\n",
    "\n",
    "print(\" Test data prepared. Shape:\", test.shape)\n",
    "\n"
   ]
  },
  {
   "cell_type": "code",
   "execution_count": null,
   "id": "7a9b3adf",
   "metadata": {},
   "outputs": [
    {
     "name": "stdout",
     "output_type": "stream",
     "text": [
      " Test data exported to test_dataset_kaggle.csv\n"
     ]
    }
   ],
   "source": [
    "# Export prepared test data\n",
    "test.to_csv(\"/workspaces/bakery_sales_prediction/merged_test_dataset_kaggle.csv\", index=False)\n",
    "print(\" Test data exported to merged_test_dataset_kaggle.csv\")"
   ]
  }
 ],
 "metadata": {
  "kernelspec": {
   "display_name": "Python 3",
   "language": "python",
   "name": "python3"
  },
  "language_info": {
   "codemirror_mode": {
    "name": "ipython",
    "version": 3
   },
   "file_extension": ".py",
   "mimetype": "text/x-python",
   "name": "python",
   "nbconvert_exporter": "python",
   "pygments_lexer": "ipython3",
   "version": "3.12.1"
  }
 },
 "nbformat": 4,
 "nbformat_minor": 5
}

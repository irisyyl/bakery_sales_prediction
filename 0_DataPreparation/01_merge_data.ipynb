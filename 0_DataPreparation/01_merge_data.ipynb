{
 "cells": [
  {
   "cell_type": "code",
   "execution_count": null,
   "id": "eb1d07a0",
   "metadata": {},
   "outputs": [],
   "source": [
    "# import library\n",
    "import pandas as pd # for data manipulation\n",
    "\n",
    "%pip install pyodide-http\n",
    "import pyodide_http # for loading external files from http \n",
    "pyodide_http.patch_all() \n",
    "\n",
    "import matplotlib.pyplot as plt # for plottings \n",
    "\n",
    "# import data \n",
    "weather = pd.read_csv('https://raw.githubusercontent.com/opencampus-sh/einfuehrung-in-data-science-und-ml/main/wetter.csv')\n",
    "kiwo = pd.read_csv('https://raw.githubusercontent.com/opencampus-sh/einfuehrung-in-data-science-und-ml/main/kiwo.csv')\n",
    "sale = pd.read_csv('https://raw.githubusercontent.com/opencampus-sh/einfuehrung-in-data-science-und-ml/main/umsatzdaten_gekuerzt.csv')\n",
    "\n",
    "# merge data \n",
    "sale_weather_kiwo = sale.merge(weather, on='Datum', how='outer') \\\n",
    ".merge(kiwo, on='Datum', how='outer')\n",
    "\n",
    "sale_weather_kiwo.head()\n"
   ]
  },
  {
   "cell_type": "code",
   "execution_count": null,
   "id": "7b56d296",
   "metadata": {},
   "outputs": [],
   "source": [
    "\n"
   ]
  }
 ],
 "metadata": {
  "kernelspec": {
   "display_name": "Python 3",
   "language": "python",
   "name": "python3"
  },
  "language_info": {
   "codemirror_mode": {
    "name": "ipython",
    "version": 3
   },
   "file_extension": ".py",
   "mimetype": "text/x-python",
   "name": "python",
   "nbconvert_exporter": "python",
   "pygments_lexer": "ipython3",
   "version": "3.12.1"
  }
 },
 "nbformat": 4,
 "nbformat_minor": 5
}

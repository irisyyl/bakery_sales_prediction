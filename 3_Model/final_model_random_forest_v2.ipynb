{
 "cells": [
  {
   "cell_type": "code",
   "execution_count": 4,
   "id": "000d34bb",
   "metadata": {},
   "outputs": [
    {
     "name": "stdout",
     "output_type": "stream",
     "text": [
      " Submission file saved: room_5_final_submission.csv\n"
     ]
    }
   ],
   "source": [
    "import pandas as pd\n",
    "import joblib\n",
    "\n",
    "# 1. Load the engineered test dataset\n",
    "test = pd.read_csv(\"/workspaces/bakery_sales_prediction/merged_test_dataset_kaggle.csv\")\n",
    "\n",
    "# 2. Select the features used in training\n",
    "features = [\n",
    "    'Warengruppe', 'KielerWoche', 'DayOfWeek', 'Weekend', 'Month',\n",
    "    'TemperatureCategory', 'CloudCategory', 'WindCategory',\n",
    "    'IsHoliday_lib', 'HolidayName', 'Season'\n",
    "]\n",
    "X_test = test[features].copy()\n",
    "\n",
    "# 3. Ensure correct data types for categorical features\n",
    "for col in ['Warengruppe', 'TemperatureCategory', 'CloudCategory', 'WindCategory', 'HolidayName', 'Season']:\n",
    "    X_test[col] = X_test[col].astype(str)\n",
    "\n",
    "# 4. Load the trained pipeline (preprocessing + tuned model)\n",
    "model = joblib.load(\"/workspaces/bakery_sales_prediction/3_Model/final_sales_forecasting_model.pkl\")\n",
    "\n",
    "# 5. Predict sales\n",
    "y_pred = model.predict(X_test)\n",
    "\n",
    "# 6. Create Kaggle submission file\n",
    "submission = pd.DataFrame({\n",
    "    \"id\": pd.read_csv(\"/workspaces/bakery_sales_prediction/test.csv\")[\"id\"],\n",
    "    \"Umsatz\": y_pred\n",
    "})\n",
    "submission.to_csv(\"/workspaces/bakery_sales_prediction/random_forest2_submission.csv\", index=False)\n",
    "\n",
    "print(\" Submission file saved: room_5_final_submission.csv\")"
   ]
  }
 ],
 "metadata": {
  "kernelspec": {
   "display_name": "Python 3",
   "language": "python",
   "name": "python3"
  },
  "language_info": {
   "codemirror_mode": {
    "name": "ipython",
    "version": 3
   },
   "file_extension": ".py",
   "mimetype": "text/x-python",
   "name": "python",
   "nbconvert_exporter": "python",
   "pygments_lexer": "ipython3",
   "version": "3.12.1"
  }
 },
 "nbformat": 4,
 "nbformat_minor": 5
}
